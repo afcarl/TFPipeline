{
 "cells": [
  {
   "cell_type": "code",
   "execution_count": 1,
   "metadata": {
    "collapsed": false
   },
   "outputs": [],
   "source": [
    "import numpy as np\n",
    "import tensorflow as tf"
   ]
  },
  {
   "cell_type": "code",
   "execution_count": 13,
   "metadata": {
    "collapsed": false
   },
   "outputs": [],
   "source": [
    "N_SAMPLES = 5\n",
    "NUM_THREADS = 4\n",
    "k_batchsize = 10  #yes, can be greater than num samples!\n",
    "                 #gotta figure out for yourself how many times you want to see the same data\n",
    "\n",
    "# Generating some simple data\n",
    "# create 1000 random samples, each is a 1D array from the normal distribution (10, 1)\n",
    "# each vector has 4 dimensions in this example\n",
    "data = 10 * np.random.randn(N_SAMPLES, 4) + 1\n",
    "# create 1000 random labels of 0 and 1\n",
    "target = np.random.randint(0, 2, size=N_SAMPLES)\n",
    "\n",
    "# Create queue types specified for data and target, shapes specified (4D and scalar)\n",
    "#XX  queue = tf.FIFOQueue(capacity=50, dtypes=[tf.float32, tf.int32], shapes=[[4], []])\n",
    "#XX  enqueue_op = queue.enqueue_many([data, target])\n",
    "#============  Choose one  ===========================================\n",
    "#XX  dequeue_op = queue.dequeue_many(k_batchsize) #batch_size at a time, in a list\n",
    "#dequeue_op = queue.dequeue() #one at a time, not in a list\n",
    "#=======================================================\n",
    "# create NUM_THREADS to do enqueue\n",
    "#XX  qr = tf.train.QueueRunner(queue, [enqueue_op] * NUM_THREADS)\n",
    "\n",
    "\n",
    "imageBatch, labelBatch = tf.train.shuffle_batch(\n",
    "    [data, target], batch_size=k_batchsize,\n",
    "    num_threads=NUM_THREADS,\n",
    "    enqueue_many=True, #IMPORTANT to get right, default=False\n",
    "    capacity=1000,\n",
    "    min_after_dequeue=500)\n",
    "\n"
   ]
  },
  {
   "cell_type": "code",
   "execution_count": 14,
   "metadata": {
    "collapsed": false
   },
   "outputs": [
    {
     "name": "stdout",
     "output_type": "stream",
     "text": [
      "step: 0\n",
      "data_batch tf.shape is Tensor(\"Shape_14:0\", shape=(2,), dtype=int32)\n",
      "batch size is 6\n",
      "data size is 4\n",
      "[1 1 1 1 1 1]\n",
      "[[  9.81506842 -12.2959223   -2.84703917   3.2908625 ]\n",
      " [-10.45825564 -14.79424138  -6.65365121   9.71631391]\n",
      " [ -3.84655748 -13.2127055  -11.72392719   4.8865905 ]\n",
      " [-10.45825564 -14.79424138  -6.65365121   9.71631391]\n",
      " [  9.81506842 -12.2959223   -2.84703917   3.2908625 ]\n",
      " [  9.81506842 -12.2959223   -2.84703917   3.2908625 ]]\n",
      "step: 1\n",
      "data_batch tf.shape is Tensor(\"Shape_15:0\", shape=(2,), dtype=int32)\n",
      "batch size is 6\n",
      "data size is 4\n",
      "[0 1 0 1 0 1]\n",
      "[[  4.55743801  -7.52001614  -9.04720224 -10.05337572]\n",
      " [ -3.84655748 -13.2127055  -11.72392719   4.8865905 ]\n",
      " [  7.14859235  -7.62079113 -21.19498099  -0.11897697]\n",
      " [ -3.84655748 -13.2127055  -11.72392719   4.8865905 ]\n",
      " [  7.14859235  -7.62079113 -21.19498099  -0.11897697]\n",
      " [ -3.84655748 -13.2127055  -11.72392719   4.8865905 ]]\n"
     ]
    }
   ],
   "source": [
    "with tf.Session() as sess:\n",
    "    # Create a coordinator, launch the queue runner threads.\n",
    "    coord = tf.train.Coordinator()\n",
    "    #XX  enqueue_threads = qr.create_threads(sess, coord=coord, start=True)\n",
    "    enqueue_threads = tf.train.start_queue_runners(sess=sess,coord=coord)\n",
    "    \n",
    "    for step in xrange(2): \n",
    "        if coord.should_stop():\n",
    "            break\n",
    "        #XX  data_batch, label_batch = sess.run(dequeue_op)\n",
    "        data_batch, label_batch = sess.run([imageBatch, labelBatch])\n",
    "        \n",
    "        print('step: ' + str(step))\n",
    "        print('data_batch tf.shape is ' + str(tf.shape(data_batch))) # 2, its a 2D array\n",
    "        print('batch size is ' + str(data_batch.shape[0])) # (rows, colums)\n",
    "        print('data size is ' + str(data_batch.shape[1])) #the length of a column\n",
    "        print label_batch\n",
    "        print data_batch\n",
    "\n",
    "        \n",
    "        \n",
    "    coord.request_stop()\n",
    "    coord.join(enqueue_threads)"
   ]
  },
  {
   "cell_type": "code",
   "execution_count": null,
   "metadata": {
    "collapsed": true
   },
   "outputs": [],
   "source": []
  }
 ],
 "metadata": {
  "anaconda-cloud": {},
  "kernelspec": {
   "display_name": "Python [conda env:tflow2]",
   "language": "python",
   "name": "conda-env-tflow2-py"
  },
  "language_info": {
   "codemirror_mode": {
    "name": "ipython",
    "version": 2
   },
   "file_extension": ".py",
   "mimetype": "text/x-python",
   "name": "python",
   "nbconvert_exporter": "python",
   "pygments_lexer": "ipython2",
   "version": "2.7.13"
  }
 },
 "nbformat": 4,
 "nbformat_minor": 2
}

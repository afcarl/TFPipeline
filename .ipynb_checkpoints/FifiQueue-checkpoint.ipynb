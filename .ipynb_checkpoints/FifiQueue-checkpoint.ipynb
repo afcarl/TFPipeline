{
 "cells": [
  {
   "cell_type": "code",
   "execution_count": 62,
   "metadata": {
    "collapsed": false
   },
   "outputs": [],
   "source": [
    "import numpy as np\n",
    "import tensorflow as tf"
   ]
  },
  {
   "cell_type": "code",
   "execution_count": 63,
   "metadata": {
    "collapsed": false
   },
   "outputs": [],
   "source": [
    "N_SAMPLES = 5\n",
    "NUM_THREADS = 4\n",
    "k_batchsize = 6  #yes, can be greater than num samples!\n",
    "                 #gotta figure out for yourself how many times you want to see the same data\n",
    "\n",
    "# Generating some simple data\n",
    "# create 1000 random samples, each is a 1D array from the normal distribution (10, 1)\n",
    "# each vector has 4 dimensions in this example\n",
    "data = 10 * np.random.randn(N_SAMPLES, 4) + 1\n",
    "# create 1000 random labels of 0 and 1\n",
    "target = np.random.randint(0, 2, size=N_SAMPLES)\n",
    "\n",
    "# Create queue types specified for data and target, shapes specified (4D and scalar)\n",
    "queue = tf.FIFOQueue(capacity=50, dtypes=[tf.float32, tf.int32], shapes=[[4], []])\n",
    "\n",
    "enqueue_op = queue.enqueue_many([data, target])\n",
    "#=======================================================\n",
    "dequeue_op = queue.dequeue_many(k_batchsize) #batch_size at a time, in a list\n",
    "#dequeue_op = queue.dequeue() #one at a time, not in a list\n",
    "#=======================================================\n",
    "\n",
    "# create NUM_THREADS to do enqueue\n",
    "qr = tf.train.QueueRunner(queue, [enqueue_op] * NUM_THREADS)\n"
   ]
  },
  {
   "cell_type": "code",
   "execution_count": 65,
   "metadata": {
    "collapsed": false
   },
   "outputs": [
    {
     "name": "stdout",
     "output_type": "stream",
     "text": [
      "step: 0\n",
      "data_batch tf.shape is Tensor(\"Shape_258:0\", shape=(2,), dtype=int32)\n",
      "batch size is 6\n",
      "data size is 4\n",
      "[[ 21.96489906  12.92832375  -1.86748099  10.71596432]\n",
      " [  5.32049561  18.49263191  -2.23480844   1.40183079]\n",
      " [  2.25991106   3.92169929   4.72664595   5.4785161 ]\n",
      " [ -0.7369144    5.38045311  26.42148018   0.16250293]\n",
      " [ 16.47820091   2.74867201   8.64681625  -6.321558  ]\n",
      " [ 21.96489906  12.92832375  -1.86748099  10.71596432]]\n",
      "step: 1\n",
      "data_batch tf.shape is Tensor(\"Shape_259:0\", shape=(2,), dtype=int32)\n",
      "batch size is 6\n",
      "data size is 4\n",
      "[[  5.32049561  18.49263191  -2.23480844   1.40183079]\n",
      " [  2.25991106   3.92169929   4.72664595   5.4785161 ]\n",
      " [ -0.7369144    5.38045311  26.42148018   0.16250293]\n",
      " [ 16.47820091   2.74867201   8.64681625  -6.321558  ]\n",
      " [ 21.96489906  12.92832375  -1.86748099  10.71596432]\n",
      " [  5.32049561  18.49263191  -2.23480844   1.40183079]]\n"
     ]
    }
   ],
   "source": [
    "with tf.Session() as sess:\n",
    "    # Create a coordinator, launch the queue runner threads.\n",
    "    coord = tf.train.Coordinator()\n",
    "    enqueue_threads = qr.create_threads(sess, coord=coord, start=True)\n",
    "    \n",
    "    for step in xrange(2): \n",
    "        if coord.should_stop():\n",
    "            break\n",
    "        data_batch, label_batch = sess.run(dequeue_op)\n",
    "        print('step: ' + str(step))\n",
    "        print('data_batch tf.shape is ' + str(tf.shape(data_batch))) # 2, its a 2D array\n",
    "        print('batch size is ' + str(data_batch.shape[0])) # (rows, colums)\n",
    "        print('data size is ' + str(data_batch.shape[1])) #the length of a column\n",
    "        #print label_batch, data_batch\n",
    "        print data_batch\n",
    "        \n",
    "        \n",
    "    coord.request_stop()\n",
    "    coord.join(enqueue_threads)"
   ]
  },
  {
   "cell_type": "code",
   "execution_count": null,
   "metadata": {
    "collapsed": true
   },
   "outputs": [],
   "source": []
  }
 ],
 "metadata": {
  "anaconda-cloud": {},
  "kernelspec": {
   "display_name": "Python [conda env:tflow2]",
   "language": "python",
   "name": "conda-env-tflow2-py"
  },
  "language_info": {
   "codemirror_mode": {
    "name": "ipython",
    "version": 2
   },
   "file_extension": ".py",
   "mimetype": "text/x-python",
   "name": "python",
   "nbconvert_exporter": "python",
   "pygments_lexer": "ipython2",
   "version": "2.7.13"
  }
 },
 "nbformat": 4,
 "nbformat_minor": 2
}
